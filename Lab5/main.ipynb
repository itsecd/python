{
 "cells": [
  {
   "cell_type": "markdown",
   "metadata": {},
   "source": [
    "# Лабораторная работа 5: Обучение и тестирование модели"
   ]
  },
  {
   "cell_type": "markdown",
   "metadata": {},
   "source": [
    "Для начала выполним импорт библиотек"
   ]
  },
  {
   "cell_type": "code",
   "execution_count": null,
   "metadata": {},
   "outputs": [],
   "source": [
    "import torch\n",
    "import torch.nn as nn\n",
    "import torch\n",
    "import torch.optim as optim\n",
    "import torch.nn.functional as F\n",
    "from torchvision import datasets, models, transforms\n",
    "from torch.utils.data import DataLoader, Dataset\n",
    "import numpy as np\n",
    "import pandas as pd\n",
    "import matplotlib.pyplot as plt\n",
    "import os\n",
    "import zipfile\n",
    "from PIL import Image\n",
    "import glob\n",
    "from sklearn.model_selection import train_test_split\n",
    "from typing import List, Tuple, Any"
   ]
  },
  {
   "cell_type": "markdown",
   "metadata": {},
   "source": [
    "Читаем пути из аннотаций формата csv"
   ]
  },
  {
   "cell_type": "code",
   "execution_count": null,
   "metadata": {},
   "outputs": [],
   "source": [
    "cat_dframe = pd.read_csv(cat_csv_path, delimiter=\",\", names=[\"Absolute path\", \"Relative path\", \"Class\"])\n",
    "    dog_dframe = pd.read_csv(dog_csv_path, delimiter=\",\", names=[\"Absolute path\", \"Relative path\", \"Class\"])\n",
    "\n",
    "    cat_images = cat_dframe[\"Absolute path\"].tolist()\n",
    "    dog_images = dog_dframe[\"Absolute path\"].tolist()\n",
    "\n",
    "    return cat_images, dog_images"
   ]
  },
  {
   "cell_type": "markdown",
   "metadata": {},
   "source": [
    "img in index 0: The absolute path\n",
    "\n",
    "img in index 1: C:/Users/User/Desktop/testing/dataset\\cat\\cat.4001.jpg\n",
    "\n",
    "img in index 2: C:/Users/User/Desktop/testing/dataset\\cat\\cat.4002.jpg\n",
    "\n",
    "img in index 0: The absolute path\n",
    "\n",
    "img in index 1: C:/Users/User/Desktop/testing/dataset\\dog\\dog.4001.jpg\n",
    "\n",
    "img in index 2: C:/Users/User/Desktop/testing/dataset\\dog\\dog.4002.jpg"
   ]
  },
  {
   "cell_type": "markdown",
   "metadata": {},
   "source": [
    "Разделение данных на тренировочные, тестовые и валидационные в пропорциях: 80 на 10 на 10, соответственно"
   ]
  },
  {
   "cell_type": "code",
   "execution_count": null,
   "metadata": {},
   "outputs": [],
   "source": [
    "cat_train_data, cat_test_val_data = train_test_split(cat_images, test_size=(test_size + val_size), random_state=42)\n",
    "    cat_test_data, cat_valid_data = train_test_split(cat_test_val_data, test_size=(val_size / (test_size + val_size)), random_state=42)\n",
    "\n",
    "    dog_train_data, dog_test_val_data = train_test_split(dog_images, test_size=(test_size + val_size), random_state=42)\n",
    "    dog_test_data, dog_valid_data = train_test_split(dog_test_val_data, test_size=(val_size / (test_size + val_size)), random_state=42)\n",
    "\n",
    "    train_data = cat_train_data + dog_train_data\n",
    "    test_data = cat_test_data + dog_test_data\n",
    "    valid_data = cat_valid_data + dog_valid_data\n",
    "\n",
    "    return train_data, test_data, valid_data"
   ]
  },
  {
   "cell_type": "markdown",
   "metadata": {},
   "source": [
    "1619\n",
    "202\n",
    "204"
   ]
  },
  {
   "cell_type": "markdown",
   "metadata": {},
   "source": [
    "Проверка изображений"
   ]
  },
  {
   "cell_type": "code",
   "execution_count": null,
   "metadata": {},
   "outputs": [],
   "source": [
    "random_idx = np.random.randint(1,len(img_list),size=10)\n",
    "\n",
    "fig = plt.figure()\n",
    "i=1\n",
    "for idx in random_idx:\n",
    "    ax = fig.add_subplot(2,5,i)\n",
    "    img = Image.open(img_list[idx])\n",
    "    plt.imshow(img)\n",
    "    i+=1\n",
    "    plt.axis('off')\n",
    "\n",
    "\n",
    "plt.show()"
   ]
  },
  {
   "cell_type": "markdown",
   "metadata": {},
   "source": [
    "![title](C:\\Users\\User\\Desktop\\testing\\ipynb\\fig1.png)\n",
    "![title](C:/Users/User/Desktop/testing/ipynb/fig2.png)\n",
    "![Alt text](C:/Users/User/Desktop/testing/ipynb/fig1.png)\n",
    "![Alt text](C:/Users/User/Desktop/testing/ipynb/fig2.png)"
   ]
  }
 ],
 "metadata": {
  "kernelspec": {
   "display_name": "Python 3",
   "language": "python",
   "name": "python3"
  },
  "language_info": {
   "name": "python",
   "version": "3.11.6"
  }
 },
 "nbformat": 4,
 "nbformat_minor": 2
}
